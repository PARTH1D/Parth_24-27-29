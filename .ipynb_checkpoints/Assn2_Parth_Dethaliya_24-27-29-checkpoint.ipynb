{
 "cells": [
  {
   "cell_type": "code",
   "execution_count": 1,
   "id": "73133a9c",
   "metadata": {},
   "outputs": [],
   "source": [
    "# Name: Parth Jilubhai Dethaliya\n",
    "# Reg No: 24-27-29\n",
    "# Programme: M.Tech. Data Science\n",
    "# Assignment Number: 2"
   ]
  },
  {
   "cell_type": "code",
   "execution_count": 2,
   "id": "7d8be7eb",
   "metadata": {},
   "outputs": [],
   "source": [
    "import numpy as np\n",
    "def print_var_info(var):\n",
    "    print(f\"values    : \\n{var}\")\n",
    "    print(f\"Shape     : {var.shape}\")\n",
    "    print(f\"Dimension : {var.ndim}\")"
   ]
  },
  {
   "cell_type": "code",
   "execution_count": 3,
   "id": "57d4f223",
   "metadata": {},
   "outputs": [
    {
     "name": "stdout",
     "output_type": "stream",
     "text": [
      "values    : \n",
      "[ 0  1  2  3  4  5  6  7  8  9 10 11 12 13 14 15 16 17 18 19 20 21 22 23\n",
      " 24 25 26 27 28 29 30]\n",
      "Shape     : (31,)\n",
      "Dimension : 1\n"
     ]
    }
   ],
   "source": [
    "## Q1\n",
    "# a \n",
    "var1 = np.arange(31) # including 0 and 30 as well, total 31 values\n",
    "\n",
    "print_var_info(var1)"
   ]
  },
  {
   "cell_type": "code",
   "execution_count": 4,
   "id": "79e58fc9",
   "metadata": {},
   "outputs": [
    {
     "name": "stdout",
     "output_type": "stream",
     "text": [
      "values    : \n",
      "[[ 0]\n",
      " [ 1]\n",
      " [ 2]\n",
      " [ 3]\n",
      " [ 4]\n",
      " [ 5]\n",
      " [ 6]\n",
      " [ 7]\n",
      " [ 8]\n",
      " [ 9]\n",
      " [10]\n",
      " [11]\n",
      " [12]\n",
      " [13]\n",
      " [14]\n",
      " [15]\n",
      " [16]\n",
      " [17]\n",
      " [18]\n",
      " [19]\n",
      " [20]\n",
      " [21]\n",
      " [22]\n",
      " [23]\n",
      " [24]\n",
      " [25]\n",
      " [26]\n",
      " [27]\n",
      " [28]\n",
      " [29]\n",
      " [30]]\n",
      "Shape     : (31, 1)\n",
      "Dimension : 2\n"
     ]
    }
   ],
   "source": [
    "# b\n",
    "# Since 31 values are present in var1 (5,6) or (6,5) shapes may not work so,\n",
    "var2 = var1.reshape(31,1)\n",
    "\n",
    "print_var_info(var2)"
   ]
  },
  {
   "cell_type": "code",
   "execution_count": 5,
   "id": "f7bbb5a3",
   "metadata": {},
   "outputs": [
    {
     "name": "stdout",
     "output_type": "stream",
     "text": [
      "values    : \n",
      "[[[ 0]\n",
      "  [ 1]\n",
      "  [ 2]\n",
      "  [ 3]\n",
      "  [ 4]\n",
      "  [ 5]\n",
      "  [ 6]\n",
      "  [ 7]\n",
      "  [ 8]\n",
      "  [ 9]\n",
      "  [10]\n",
      "  [11]\n",
      "  [12]\n",
      "  [13]\n",
      "  [14]\n",
      "  [15]\n",
      "  [16]\n",
      "  [17]\n",
      "  [18]\n",
      "  [19]\n",
      "  [20]\n",
      "  [21]\n",
      "  [22]\n",
      "  [23]\n",
      "  [24]\n",
      "  [25]\n",
      "  [26]\n",
      "  [27]\n",
      "  [28]\n",
      "  [29]\n",
      "  [30]]]\n",
      "Shape     : (1, 31, 1)\n",
      "Dimension : 3\n"
     ]
    }
   ],
   "source": [
    "# c\n",
    "# Similarly 3d shape\n",
    "var3 = var2.reshape(1,31,1) # or var1.reshape() both would result in same\n",
    "\n",
    "print_var_info(var3)"
   ]
  },
  {
   "cell_type": "code",
   "execution_count": 6,
   "id": "721c5d2c",
   "metadata": {},
   "outputs": [
    {
     "name": "stdout",
     "output_type": "stream",
     "text": [
      "[ 0 -1  2  3  4  5  6  7  8  9 10 11 12 13 14 15 16 17 18 19 20 21 22 23\n",
      " 24 25 26 27 28 29 30]\n",
      "[[[ 0]\n",
      "  [-1]\n",
      "  [ 2]\n",
      "  [ 3]\n",
      "  [ 4]\n",
      "  [ 5]\n",
      "  [ 6]\n",
      "  [ 7]\n",
      "  [ 8]\n",
      "  [ 9]\n",
      "  [10]\n",
      "  [11]\n",
      "  [12]\n",
      "  [13]\n",
      "  [14]\n",
      "  [15]\n",
      "  [16]\n",
      "  [17]\n",
      "  [18]\n",
      "  [19]\n",
      "  [20]\n",
      "  [21]\n",
      "  [22]\n",
      "  [23]\n",
      "  [24]\n",
      "  [25]\n",
      "  [26]\n",
      "  [27]\n",
      "  [28]\n",
      "  [29]\n",
      "  [30]]]\n"
     ]
    }
   ],
   "source": [
    "# d\n",
    "\n",
    "var2[1,0] = -1\n",
    "\n",
    "print(var1)\n",
    "print(var3)"
   ]
  },
  {
   "cell_type": "markdown",
   "id": "d479b582",
   "metadata": {},
   "source": [
    "The values in var1 as well as var3 changes because reshapes doesn't returns copy rather it returns view (in most of the cases)."
   ]
  },
  {
   "cell_type": "code",
   "execution_count": 7,
   "id": "a9d6b232",
   "metadata": {},
   "outputs": [
    {
     "name": "stdout",
     "output_type": "stream",
     "text": [
      "Shape     : (1, 31, 1)\n",
      "Sum over second dimension: [[463]]\n",
      "Sum over second dimension: [[ 0 -1  2  3  4  5  6  7  8  9 10 11 12 13 14 15 16 17 18 19 20 21 22 23\n",
      "  24 25 26 27 28 29 30]]\n",
      "Sum over second dimension: [ 0 -1  2  3  4  5  6  7  8  9 10 11 12 13 14 15 16 17 18 19 20 21 22 23\n",
      " 24 25 26 27 28 29 30]\n"
     ]
    }
   ],
   "source": [
    "# e i) Sum var3 over its second dimension\n",
    "print(f\"Shape     : {var3.shape}\")\n",
    "\n",
    "sum_var3_ax1 = np.sum(var3, axis=1)\n",
    "print(\"Sum over second dimension:\", sum_var3_ax1) # Second dimension contains all the 31 values so it sums over it\n",
    "\n",
    "# e ii) Sum var3 over its 3rd dimension\n",
    "\n",
    "sum_var3_ax2 = np.sum(var3, axis=2)\n",
    "print(\"Sum over second dimension:\", sum_var3_ax2) # it will sum between columns but since we only have 31 rows and \n",
    "# single column so it will be same thing but with dimension 2 (as it has reduced that 2nd axis by summin over it)\n",
    "\n",
    "# e iii) Sum var3 over its 1st & 3rd dimension\n",
    "\n",
    "\n",
    "sum_var3_ax1_3 = np.sum(var3, axis=(0,2))\n",
    "print(\"Sum over second dimension:\", sum_var3_ax1_3) # it willfirst sum over axis 0 which is between the depth, but since \n",
    "# there exists only one depth so the output information may not change, only axis 0 will be reduces\n",
    "# then it sums over axis 2, again same thing will happen as mention in \"e (ii)\" and the dimension will be 1 now"
   ]
  },
  {
   "cell_type": "markdown",
   "id": "0a58ad49",
   "metadata": {},
   "source": [
    "Conclusion regarding output shape:\n",
    "if an array is of shape (a,b,c),\n",
    "any_operation(axis=0) returns (b,c) (eliminates the given axis)\n",
    "example: i) any_operation(axis=1) returns (a,c)\n",
    "         ii) any_operation(axis=(0,1) returns (b) likewise..."
   ]
  },
  {
   "cell_type": "code",
   "execution_count": 8,
   "id": "e2c66419",
   "metadata": {},
   "outputs": [
    {
     "name": "stdout",
     "output_type": "stream",
     "text": [
      "Second row\n",
      "[-1]\n",
      "\n",
      "Last column\n",
      "[ 0 -1  2  3  4  5  6  7  8  9 10 11 12 13 14 15 16 17 18 19 20 21 22 23\n",
      " 24 25 26 27 28 29 30]\n",
      "\n",
      "var4: \n",
      "values    : \n",
      "[[ 0  1  2  3  4  5]\n",
      " [ 6  7  8  9 10 11]\n",
      " [12 13 14 15 16 17]\n",
      " [18 19 20 21 22 23]\n",
      " [24 25 26 27 28 29]]\n",
      "Shape     : (5, 6)\n",
      "Dimension : 2\n",
      "\n",
      "\n",
      "Top right 2x2: \n",
      "\n",
      "[[ 4  5]\n",
      " [10 11]]\n"
     ]
    }
   ],
   "source": [
    "# f i)\n",
    "print(\"Second row\")\n",
    "print(var2[1,:])\n",
    "\n",
    "# f ii)\n",
    "print(\"\\nLast column\")\n",
    "print(var2[:,-1]) # Only 1 column exists so the output will with full data but 1d\n",
    "\n",
    "# f iii) Top right 2x2\n",
    "# Since it's not possible with shape (31,1) so creating new variable with (5,6) shape to do this\n",
    "var4 = np.arange(30).reshape(5,6)\n",
    "print(\"\\nvar4: \")\n",
    "print_var_info(var4)\n",
    "\n",
    "print(\"\\n\")\n",
    "print(\"Top right 2x2: \\n\")\n",
    "\n",
    "print(var4[:2,-2:])\n"
   ]
  },
  {
   "cell_type": "code",
   "execution_count": 9,
   "id": "533c37d5",
   "metadata": {},
   "outputs": [
    {
     "name": "stdout",
     "output_type": "stream",
     "text": [
      "original array  :  [0 1 2 3 4 5 6 7 8 9]\n",
      "Broadcasted + 1 :  [ 1  2  3  4  5  6  7  8  9 10]\n"
     ]
    }
   ],
   "source": [
    "# Q2\n",
    "# a\n",
    "arr = np.arange(10)\n",
    "print(\"original array  : \", arr)\n",
    "arr2 = arr + 1\n",
    "print(\"Broadcasted + 1 : \",arr2)"
   ]
  },
  {
   "cell_type": "code",
   "execution_count": 10,
   "id": "b5ac07e0",
   "metadata": {},
   "outputs": [],
   "source": [
    "# b 10x10 matrix\n",
    "column_vector = arr2.reshape(10,1) \n",
    "arr3 = column_vector + arr2 "
   ]
  },
  {
   "cell_type": "code",
   "execution_count": 11,
   "id": "9fa71fb3",
   "metadata": {},
   "outputs": [
    {
     "data": {
      "text/plain": [
       "array([[ 2,  3,  4,  5,  6,  7,  8,  9, 10, 11],\n",
       "       [ 3,  4,  5,  6,  7,  8,  9, 10, 11, 12],\n",
       "       [ 4,  5,  6,  7,  8,  9, 10, 11, 12, 13],\n",
       "       [ 5,  6,  7,  8,  9, 10, 11, 12, 13, 14],\n",
       "       [ 6,  7,  8,  9, 10, 11, 12, 13, 14, 15],\n",
       "       [ 7,  8,  9, 10, 11, 12, 13, 14, 15, 16],\n",
       "       [ 8,  9, 10, 11, 12, 13, 14, 15, 16, 17],\n",
       "       [ 9, 10, 11, 12, 13, 14, 15, 16, 17, 18],\n",
       "       [10, 11, 12, 13, 14, 15, 16, 17, 18, 19],\n",
       "       [11, 12, 13, 14, 15, 16, 17, 18, 19, 20]])"
      ]
     },
     "execution_count": 11,
     "metadata": {},
     "output_type": "execute_result"
    }
   ],
   "source": [
    "arr3"
   ]
  },
  {
   "cell_type": "code",
   "execution_count": 12,
   "id": "ee70c4f6",
   "metadata": {},
   "outputs": [
    {
     "name": "stdout",
     "output_type": "stream",
     "text": [
      "[[0.42091235 1.81489674 1.2949665  0.58422979 2.38532519]\n",
      " [0.61188755 0.87601509 1.64796024 1.64762384 2.18702232]\n",
      " [0.33631897 0.69952875 0.83422619 0.51233697 0.59033491]\n",
      " [0.52212359 2.00099907 0.61464681 1.14010647 0.75440642]\n",
      " [2.46580777 1.04810113 1.31750982 0.41296156 0.22908517]\n",
      " [0.15316116 1.12689728 1.90409151 0.39081889 1.22615262]\n",
      " [1.327881   3.58721671 0.2343564  1.57593254 0.22931869]\n",
      " [1.27292078 0.35139919 2.41428525 0.57429689 1.34286326]\n",
      " [0.8927045  0.28857607 1.36392418 1.00525404 0.20494896]\n",
      " [0.21936135 0.42803847 1.19286316 0.36689174 1.80378151]\n",
      " [0.49875248 0.75926858 1.20437877 1.70210154 1.19371655]\n",
      " [0.34186869 0.9234617  3.1882551  5.83969796 1.05176531]\n",
      " [2.26950066 2.25961792 6.92050537 0.93378732 0.23326291]\n",
      " [4.19662721 0.25796419 0.81361865 3.55083127 1.8957381 ]\n",
      " [3.77087997 9.74062167 1.61211074 1.69601021 1.08735038]\n",
      " [0.35303374 2.71934653 1.51480657 0.85993871 4.16258598]\n",
      " [1.6023097  2.81675301 0.4551519  0.55495611 1.26641427]\n",
      " [0.68729947 1.17787661 0.3874774  1.0668792  0.12699152]\n",
      " [0.38451703 1.29694607 3.05392167 4.48615237 3.09838709]\n",
      " [0.19579052 0.43897576 0.33713382 1.14525335 0.99551986]\n",
      " [3.01026952 1.03755039 3.80318382 7.62871862 3.20092983]\n",
      " [0.47207691 2.47544979 0.94739815 1.15578457 0.95687394]\n",
      " [3.9254264  1.30836942 0.69063721 1.28162544 0.93707013]\n",
      " [0.77278342 1.15420957 1.44249057 1.45725718 0.23187154]\n",
      " [1.17028233 7.60871501 0.92776427 3.97459831 1.14967504]\n",
      " [1.18317739 0.06685034 0.58067847 0.91948932 2.56007873]\n",
      " [0.26090828 0.27392161 0.63837938 0.72388201 0.43173133]\n",
      " [0.60456112 0.19076568 6.26034424 4.02307158 0.36005   ]\n",
      " [4.68000551 0.64653731 0.43333346 2.55122262 0.335259  ]\n",
      " [4.65988911 4.56541545 0.31655695 2.41463032 2.98149856]\n",
      " [1.54400665 3.29375977 0.60260571 4.02791774 0.65478625]\n",
      " [0.67765205 0.52881606 0.495344   0.21218031 1.03136661]\n",
      " [0.39715672 1.66253289 0.4273032  1.21164467 0.90588554]\n",
      " [1.75600092 5.08004171 1.77893088 0.32118667 0.66727983]\n",
      " [0.22915325 3.07957824 0.77967188 1.39811072 0.1613056 ]\n",
      " [0.52959561 0.93140499 0.27303201 0.4277564  1.12831673]\n",
      " [4.58957364 1.46960084 1.98922323 0.2830903  0.0883134 ]\n",
      " [4.37604175 0.89960079 0.39855598 2.22630584 0.55176236]\n",
      " [0.36958557 0.90848496 2.20429381 0.68811048 3.12624859]\n",
      " [0.43176793 1.43469277 1.91701947 1.99636105 1.58885266]\n",
      " [1.32049741 1.25574995 1.7315332  1.23882423 5.74420062]\n",
      " [2.18711746 0.86557516 1.04966168 1.70370909 0.89403645]\n",
      " [0.96797475 1.10828932 0.52764718 2.2731851  0.86323126]\n",
      " [0.61447571 0.23135699 2.7875905  2.71122411 1.87639708]\n",
      " [0.62374627 0.81194585 1.06122462 1.32569027 1.09096522]\n",
      " [0.94855639 0.64871491 2.04571813 0.10269383 1.80556829]\n",
      " [1.20292213 1.3547615  0.64283624 0.2042067  0.18870633]\n",
      " [0.47721508 0.15987833 1.046163   0.41480417 0.44217532]\n",
      " [2.32501727 0.25149159 0.197126   2.86407459 0.39751699]\n",
      " [0.97200968 0.23312634 0.6376289  0.14782383 0.4919565 ]]\n"
     ]
    }
   ],
   "source": [
    "# c\n",
    "\n",
    "import numpy.random as npr\n",
    "data = np.exp(npr.randn ( 50 , 5 ) )\n",
    "print(data)"
   ]
  },
  {
   "cell_type": "code",
   "execution_count": 13,
   "id": "fd8980a0",
   "metadata": {},
   "outputs": [
    {
     "name": "stdout",
     "output_type": "stream",
     "text": [
      "[1.34713926 1.83227701 1.34099051 1.53082909 1.13968739]\n",
      "[1.39606209 1.60299376 1.41880132 1.63910482 1.25817761]\n"
     ]
    }
   ],
   "source": [
    "std = np.std(data,axis=0)# for each column that means we have to compute between rows\n",
    "mean = np.mean(data,axis=0)\n",
    "print(std)\n",
    "print(mean)"
   ]
  },
  {
   "cell_type": "code",
   "execution_count": 14,
   "id": "68f22687",
   "metadata": {},
   "outputs": [
    {
     "name": "stdout",
     "output_type": "stream",
     "text": [
      "[[-0.72386707  0.11565008 -0.09234579 -0.68908739  0.98899714]\n",
      " [-0.58210355 -0.39676243  0.1708878   0.00556497  0.81499954]\n",
      " [-0.7866619  -0.4930832  -0.43592787 -0.73605071 -0.58598763]\n",
      " [-0.64873657  0.21721896 -0.59967204 -0.32596607 -0.44202577]\n",
      " [ 0.79408693 -0.3028432  -0.07553484 -0.80096678 -0.90296028]\n",
      " [-0.92262246 -0.2598387   0.36188936 -0.81543128 -0.0280998 ]\n",
      " [-0.05061176  1.08292739 -0.88326122 -0.04126671 -0.90275538]\n",
      " [-0.09140949 -0.68308152  0.74234972 -0.69557597  0.07430603]\n",
      " [-0.37364927 -0.71736844 -0.04092284 -0.41405718 -0.9241382 ]\n",
      " [-0.87348115 -0.64125418 -0.16848602 -0.83106147  0.47873118]\n",
      " [-0.66608527 -0.46047906 -0.15989864  0.04115203 -0.05656031]\n",
      " [-0.78254227 -0.37086754  1.31951253  2.74399876 -0.18111309]\n",
      " [ 0.64836546  0.35836511  4.10271662 -0.46074216 -0.89929459]\n",
      " [ 2.07889801 -0.73407545 -0.45129527  1.24881769  0.55941698]\n",
      " [ 1.76285997  4.44126509  0.1441542   0.03717292 -0.14988956]\n",
      " [-0.77425429  0.60927074  0.07159279 -0.50898308  2.54842546]\n",
      " [ 0.15310044  0.66243218 -0.71861017 -0.70821015  0.00722712]\n",
      " [-0.52612424 -0.23201577 -0.76907623 -0.37380111 -0.99254068]\n",
      " [-0.75088381 -0.16703134  1.21933775  1.85980758  1.61466161]\n",
      " [-0.8909781  -0.63528495 -0.80661831 -0.32260392 -0.23046473]\n",
      " [ 1.19824837 -0.30860146  1.7780756   3.91266003  1.70463605]\n",
      " [-0.68588691  0.47615946 -0.35153356 -0.3157245  -0.26437396]\n",
      " [ 1.87758191 -0.16079683 -0.54300468 -0.23352011 -0.2817505 ]\n",
      " [-0.46266833 -0.2449325   0.01766548 -0.11879029 -0.90051542]\n",
      " [-0.16759942  3.27773652 -0.36617489  1.5256396  -0.0952038 ]\n",
      " [-0.15802725 -0.83837947 -0.62500282 -0.47008219  1.14233177]\n",
      " [-0.84264029 -0.72536639 -0.58197425 -0.59786086 -0.72515173]\n",
      " [-0.58754206 -0.77075031  3.61042295  1.55730432 -0.78804734]\n",
      " [ 2.43771637 -0.52200429 -0.73488057  0.59583255 -0.8097998 ]\n",
      " [ 2.42278369  1.61679794 -0.82196285  0.50660489  1.51209969]\n",
      " [ 0.10982128  0.92276768 -0.6086513   1.56047003 -0.52943585]\n",
      " [-0.53328566 -0.5862529  -0.68863823 -0.93212528 -0.1990116 ]\n",
      " [-0.7415012   0.03249461 -0.73937744 -0.2792344  -0.3091129 ]\n",
      " [ 0.26718754  1.897665    0.26855489 -0.86091789 -0.51847357]\n",
      " [-0.86621249  0.80587404 -0.47660997 -0.15742717 -0.96243235]\n",
      " [-0.64318999 -0.36653234 -0.85442015 -0.79130219 -0.1139443 ]\n",
      " [ 2.37058754 -0.07280172  0.42537356 -0.88580399 -1.02647816]\n",
      " [ 2.21207989 -0.38389009 -0.76081474  0.38358366 -0.61983247]\n",
      " [-0.76196764 -0.37904138  0.58575544 -0.62122829  1.63910822]\n",
      " [-0.71580882 -0.09185346  0.37152996  0.23337434  0.2901454 ]\n",
      " [-0.0560927  -0.18951491  0.23320961 -0.26147961  3.93618728]\n",
      " [ 0.58721128 -0.40246022 -0.27527387  0.04220215 -0.31950969]\n",
      " [-0.31777512 -0.26999435 -0.66454918  0.4142071  -0.34653919]\n",
      " [-0.58018232 -0.74859684  1.02072995  0.70035205  0.54244652]\n",
      " [-0.57330066 -0.43172943 -0.26665118 -0.20473516 -0.14671778]\n",
      " [-0.33218964 -0.52081582  0.46750279 -1.00364632  0.48029897]\n",
      " [-0.14337045 -0.13547748 -0.57865069 -0.93733397 -0.93839003]\n",
      " [-0.68207278 -0.78760768 -0.2778829  -0.79976312 -0.71598782]\n",
      " [ 0.6895762  -0.737608   -0.91102459  0.80020022 -0.75517254]\n",
      " [-0.31477994 -0.74763118 -0.58253389 -0.97416556 -0.67230815]]\n"
     ]
    }
   ],
   "source": [
    "normalized = (data-mean)/std\n",
    "print(normalized)"
   ]
  },
  {
   "cell_type": "code",
   "execution_count": 15,
   "id": "edef2411",
   "metadata": {},
   "outputs": [
    {
     "name": "stdout",
     "output_type": "stream",
     "text": [
      "Standard Deviation :  [1. 1. 1. 1. 1.]\n",
      "Mean               :  [ 7.54951657e-17 -9.54791801e-17 -1.11022302e-17 -1.35447209e-16\n",
      "  2.22044605e-16]\n"
     ]
    }
   ],
   "source": [
    "std = np.std(normalized,axis=0)\n",
    "mean = np.mean(normalized,axis=0)\n",
    "print(\"Standard Deviation : \",std)\n",
    "print(\"Mean               : \",mean)\n",
    "# Mean 0, Std = 1"
   ]
  },
  {
   "cell_type": "code",
   "execution_count": 16,
   "id": "95281d55",
   "metadata": {},
   "outputs": [
    {
     "name": "stdout",
     "output_type": "stream",
     "text": [
      "1 1 1 1 1 1 1 1 1 1 1 1\n",
      "1 2 4 8 16 32 64 128 256 512 1024 2048\n",
      "1 3 9 27 81 243 729 2187 6561 19683 59049 177147\n",
      "1 4 16 64 256 1024 4096 16384 65536 262144 1048576 4194304\n",
      "1 5 25 125 625 3125 15625 78125 390625 1953125 9765625 48828125\n",
      "1 6 36 216 1296 7776 46656 279936 1679616 10077696 60466176 362797056\n",
      "1 7 49 343 2401 16807 117649 823543 5764801 40353607 282475249 1977326743\n",
      "1 8 64 512 4096 32768 262144 2097152 16777216 134217728 1073741824 0\n",
      "1 9 81 729 6561 59049 531441 4782969 43046721 387420489 -808182895 1316288537\n",
      "1 10 100 1000 10000 100000 1000000 10000000 100000000 1000000000 1410065408 1215752192\n",
      "1 11 121 1331 14641 161051 1771561 19487171 214358881 -1937019605 167620825 1843829075\n",
      "1 12 144 1728 20736 248832 2985984 35831808 429981696 864813056 1787822080 -20971520\n"
     ]
    }
   ],
   "source": [
    "# 3 Vandermonde matrix\n",
    "\n",
    "N = 12\n",
    "def vandermonde(N):\n",
    "    vec = np.arange (N) +1\n",
    "    vector = np.arange(N) + 1\n",
    "    v2 = np.arange(N)  # Power Vector \n",
    "    output = vector.reshape(N,1)**v2\n",
    "    return output\n",
    "def printMat(Mat):\n",
    "    for row in Mat:\n",
    "        print(\" \".join(f\"{elem}\" for elem in row))\n",
    "\n",
    "Vector = vandermonde(N)\n",
    "printMat(Vector)"
   ]
  },
  {
   "cell_type": "code",
   "execution_count": 17,
   "id": "d74d3298",
   "metadata": {},
   "outputs": [
    {
     "name": "stdout",
     "output_type": "stream",
     "text": [
      "[1.20000000e+01 4.09500000e+03 2.65720000e+05 5.59240500e+06\n",
      " 6.10351560e+07 4.35356467e+08 2.30688120e+09 1.22713351e+09\n",
      " 9.43953692e+08 3.73692871e+09 3.10225064e+08 3.10073456e+09]\n"
     ]
    }
   ],
   "source": [
    "# b\n",
    "\n",
    "x = np.ones(12)\n",
    "\n",
    "b = np.dot(Vector,x)\n",
    "print(b)"
   ]
  },
  {
   "cell_type": "code",
   "execution_count": 18,
   "id": "d9913f2e",
   "metadata": {},
   "outputs": [
    {
     "name": "stdout",
     "output_type": "stream",
     "text": [
      "[1.00158882 0.99722672 1.00127029 0.99991608 1.00000095 0.99999905\n",
      " 1.00000018 0.99999999 1.         1.         1.         1.        ]\n"
     ]
    }
   ],
   "source": [
    "# c naive solution\n",
    "\n",
    "Vector_inv = np.linalg.inv(Vector)\n",
    "Sol = np.dot(Vector_inv,b)\n",
    "print(Sol)\n",
    "# The result is almost ones(12) with slight variation maybe due to floating points instability while inversing Vector"
   ]
  },
  {
   "cell_type": "code",
   "execution_count": 19,
   "id": "37dca5ce",
   "metadata": {},
   "outputs": [
    {
     "name": "stdout",
     "output_type": "stream",
     "text": [
      "[1.0000114  0.99997033 1.00002961 0.99998507 1.00000423 0.9999993\n",
      " 1.00000007 1.         1.         1.         1.         1.        ]\n"
     ]
    }
   ],
   "source": [
    "# d solve using numpy\n",
    "\n",
    "Sol_inbuilt = np.linalg.solve(Vector,b)\n",
    "\n",
    "print(Sol_inbuilt)"
   ]
  },
  {
   "cell_type": "code",
   "execution_count": 20,
   "id": "7aa54be5",
   "metadata": {},
   "outputs": [
    {
     "name": "stdout",
     "output_type": "stream",
     "text": [
      "0.0009931496457600455 1.3316958977450673e-05\n"
     ]
    }
   ],
   "source": [
    "# The solution using .solve() seems more accurate but let's verify that using some statistics \n",
    "\n",
    "Diff_solve = x - Sol\n",
    "Diff_solve_inbuilt = x - Sol_inbuilt\n",
    "print(np.std(Diff_solve) , np.std(Diff_solve_inbuilt) )\n",
    "# clearly the inbuilt function method's solution is more closer to ones(12)"
   ]
  },
  {
   "cell_type": "code",
   "execution_count": 21,
   "id": "82c17ef8",
   "metadata": {},
   "outputs": [],
   "source": [
    "#https://github.com/PARTH1D/Parth_24-27-29/blob/main/Assn2_Parth_Dethaliya_24-27-29.ipynb"
   ]
  },
  {
   "cell_type": "code",
   "execution_count": null,
   "id": "dfbac695",
   "metadata": {},
   "outputs": [],
   "source": []
  }
 ],
 "metadata": {
  "kernelspec": {
   "display_name": "Python 3 (ipykernel)",
   "language": "python",
   "name": "python3"
  },
  "language_info": {
   "codemirror_mode": {
    "name": "ipython",
    "version": 3
   },
   "file_extension": ".py",
   "mimetype": "text/x-python",
   "name": "python",
   "nbconvert_exporter": "python",
   "pygments_lexer": "ipython3",
   "version": "3.11.9"
  }
 },
 "nbformat": 4,
 "nbformat_minor": 5
}
