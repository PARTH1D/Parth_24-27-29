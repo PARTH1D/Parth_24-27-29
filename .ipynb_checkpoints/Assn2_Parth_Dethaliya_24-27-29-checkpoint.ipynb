{
 "cells": [
  {
   "cell_type": "code",
   "execution_count": 1,
   "id": "73133a9c",
   "metadata": {},
   "outputs": [],
   "source": [
    "# Name: Parth Jilubhai Dethaliya\n",
    "# Reg No: 24-27-29\n",
    "# Programme: M.Tech. Data Science\n",
    "# Assignment Number: 2"
   ]
  },
  {
   "cell_type": "code",
   "execution_count": 2,
   "id": "7d8be7eb",
   "metadata": {},
   "outputs": [],
   "source": [
    "import numpy as np\n",
    "def print_var_info(var):\n",
    "    print(f\"values    : \\n{var}\")\n",
    "    print(f\"Shape     : {var.shape}\")\n",
    "    print(f\"Dimension : {var.ndim}\")"
   ]
  },
  {
   "cell_type": "code",
   "execution_count": 3,
   "id": "57d4f223",
   "metadata": {},
   "outputs": [
    {
     "name": "stdout",
     "output_type": "stream",
     "text": [
      "values    : \n",
      "[ 0  1  2  3  4  5  6  7  8  9 10 11 12 13 14 15 16 17 18 19 20 21 22 23\n",
      " 24 25 26 27 28 29 30]\n",
      "Shape     : (31,)\n",
      "Dimension : 1\n"
     ]
    }
   ],
   "source": [
    "## Q1\n",
    "# a \n",
    "var1 = np.arange(31)\n",
    "\n",
    "print_var_info(var1)"
   ]
  },
  {
   "cell_type": "code",
   "execution_count": 4,
   "id": "79e58fc9",
   "metadata": {},
   "outputs": [
    {
     "name": "stdout",
     "output_type": "stream",
     "text": [
      "values    : \n",
      "[[ 0]\n",
      " [ 1]\n",
      " [ 2]\n",
      " [ 3]\n",
      " [ 4]\n",
      " [ 5]\n",
      " [ 6]\n",
      " [ 7]\n",
      " [ 8]\n",
      " [ 9]\n",
      " [10]\n",
      " [11]\n",
      " [12]\n",
      " [13]\n",
      " [14]\n",
      " [15]\n",
      " [16]\n",
      " [17]\n",
      " [18]\n",
      " [19]\n",
      " [20]\n",
      " [21]\n",
      " [22]\n",
      " [23]\n",
      " [24]\n",
      " [25]\n",
      " [26]\n",
      " [27]\n",
      " [28]\n",
      " [29]\n",
      " [30]]\n",
      "Shape     : (31, 1)\n",
      "Dimension : 2\n"
     ]
    }
   ],
   "source": [
    "# b\n",
    "# Since 31 values are present in var1 (5,6) or (6,5) shapes may not work so,\n",
    "var2 = var1.reshape(31,1)\n",
    "\n",
    "print_var_info(var2)"
   ]
  },
  {
   "cell_type": "code",
   "execution_count": 5,
   "id": "f7bbb5a3",
   "metadata": {},
   "outputs": [
    {
     "name": "stdout",
     "output_type": "stream",
     "text": [
      "values    : \n",
      "[[[ 0]\n",
      "  [ 1]\n",
      "  [ 2]\n",
      "  [ 3]\n",
      "  [ 4]\n",
      "  [ 5]\n",
      "  [ 6]\n",
      "  [ 7]\n",
      "  [ 8]\n",
      "  [ 9]\n",
      "  [10]\n",
      "  [11]\n",
      "  [12]\n",
      "  [13]\n",
      "  [14]\n",
      "  [15]\n",
      "  [16]\n",
      "  [17]\n",
      "  [18]\n",
      "  [19]\n",
      "  [20]\n",
      "  [21]\n",
      "  [22]\n",
      "  [23]\n",
      "  [24]\n",
      "  [25]\n",
      "  [26]\n",
      "  [27]\n",
      "  [28]\n",
      "  [29]\n",
      "  [30]]]\n",
      "Shape     : (1, 31, 1)\n",
      "Dimension : 3\n"
     ]
    }
   ],
   "source": [
    "# c\n",
    "# Similarly 3d shape\n",
    "var3 = var2.reshape(1,31,1) # or var1.reshape() both would result in same\n",
    "\n",
    "print_var_info(var3)"
   ]
  },
  {
   "cell_type": "code",
   "execution_count": 6,
   "id": "721c5d2c",
   "metadata": {},
   "outputs": [
    {
     "name": "stdout",
     "output_type": "stream",
     "text": [
      "[ 0 -1  2  3  4  5  6  7  8  9 10 11 12 13 14 15 16 17 18 19 20 21 22 23\n",
      " 24 25 26 27 28 29 30]\n",
      "[[[ 0]\n",
      "  [-1]\n",
      "  [ 2]\n",
      "  [ 3]\n",
      "  [ 4]\n",
      "  [ 5]\n",
      "  [ 6]\n",
      "  [ 7]\n",
      "  [ 8]\n",
      "  [ 9]\n",
      "  [10]\n",
      "  [11]\n",
      "  [12]\n",
      "  [13]\n",
      "  [14]\n",
      "  [15]\n",
      "  [16]\n",
      "  [17]\n",
      "  [18]\n",
      "  [19]\n",
      "  [20]\n",
      "  [21]\n",
      "  [22]\n",
      "  [23]\n",
      "  [24]\n",
      "  [25]\n",
      "  [26]\n",
      "  [27]\n",
      "  [28]\n",
      "  [29]\n",
      "  [30]]]\n"
     ]
    }
   ],
   "source": [
    "# d\n",
    "\n",
    "var2[1,0] = -1\n",
    "\n",
    "print(var1)\n",
    "print(var3)"
   ]
  },
  {
   "cell_type": "markdown",
   "id": "d479b582",
   "metadata": {},
   "source": [
    "The values in var1 as well as var3 changes because reshapes doesn't returns copy rather it return view (in most of the cases)."
   ]
  },
  {
   "cell_type": "code",
   "execution_count": 7,
   "id": "a9d6b232",
   "metadata": {},
   "outputs": [
    {
     "name": "stdout",
     "output_type": "stream",
     "text": [
      "Shape     : (1, 31, 1)\n",
      "Sum over second dimension: [[463]]\n",
      "Sum over second dimension: [[ 0 -1  2  3  4  5  6  7  8  9 10 11 12 13 14 15 16 17 18 19 20 21 22 23\n",
      "  24 25 26 27 28 29 30]]\n",
      "Sum over second dimension: [ 0 -1  2  3  4  5  6  7  8  9 10 11 12 13 14 15 16 17 18 19 20 21 22 23\n",
      " 24 25 26 27 28 29 30]\n"
     ]
    }
   ],
   "source": [
    "# e i) Sum var3 over its second dimension\n",
    "print(f\"Shape     : {var3.shape}\")\n",
    "\n",
    "sum_var3_ax1 = np.sum(var3, axis=1)\n",
    "print(\"Sum over second dimension:\", sum_var3_ax1) # Second dimension contains all the 31 values so it sums over it\n",
    "\n",
    "# e ii) Sum var3 over its 3rd dimension\n",
    "\n",
    "sum_var3_ax2 = np.sum(var3, axis=2)\n",
    "print(\"Sum over second dimension:\", sum_var3_ax2) # it will sum between columns but since we only have 31 rows and \n",
    "# single column so it will be same thing but with dimension 2 (as it has reduced that 2nd axis by summin over it)\n",
    "\n",
    "# e iii) Sum var3 over its 1st & 3rd dimension\n",
    "\n",
    "\n",
    "sum_var3_ax1_3 = np.sum(var3, axis=(0,2))\n",
    "print(\"Sum over second dimension:\", sum_var3_ax1_3) # it willfirst sum over axis 0 which is between the depth, but since \n",
    "# there exists only one depth so the output information may not change, only axis 0 will be reduces\n",
    "# then it sums over axis 2, again same thing will happen as mention in \"e (ii)\" and the dimension will be 1 now"
   ]
  },
  {
   "cell_type": "code",
   "execution_count": 8,
   "id": "e2c66419",
   "metadata": {},
   "outputs": [
    {
     "name": "stdout",
     "output_type": "stream",
     "text": [
      "Second row\n",
      "[2]\n",
      "\n",
      "Last column\n",
      "[ 0 -1  2  3  4  5  6  7  8  9 10 11 12 13 14 15 16 17 18 19 20 21 22 23\n",
      " 24 25 26 27 28 29 30]\n",
      "\n",
      "var4: \n",
      "values    : \n",
      "[[ 0  1  2  3  4  5]\n",
      " [ 6  7  8  9 10 11]\n",
      " [12 13 14 15 16 17]\n",
      " [18 19 20 21 22 23]\n",
      " [24 25 26 27 28 29]]\n",
      "Shape     : (5, 6)\n",
      "Dimension : 2\n",
      "\n",
      "\n",
      "Top right 2x2: \n",
      "\n",
      "[[ 2  3  4  5]\n",
      " [ 8  9 10 11]\n",
      " [14 15 16 17]\n",
      " [20 21 22 23]]\n"
     ]
    }
   ],
   "source": [
    "# f i)\n",
    "print(\"Second row\")\n",
    "print(var2[2,:])\n",
    "\n",
    "# f ii)\n",
    "print(\"\\nLast column\")\n",
    "print(var2[:,-1]) # Only 1 column exists so the output will with full data but 1d\n",
    "\n",
    "# f iii) Top right 2x2\n",
    "# Since it's not possible with shape (31,1) so creating new variable with (5,6) shape to do this\n",
    "var4 = np.arange(30).reshape(5,6)\n",
    "print(\"\\nvar4: \")\n",
    "print_var_info(var4)\n",
    "\n",
    "print(\"\\n\")\n",
    "print(\"Top right 2x2: \\n\")\n",
    "\n",
    "print(var4[:4,-4:])\n"
   ]
  },
  {
   "cell_type": "code",
   "execution_count": 9,
   "id": "533c37d5",
   "metadata": {},
   "outputs": [
    {
     "name": "stdout",
     "output_type": "stream",
     "text": [
      "original array  :  [0 1 2 3 4 5 6 7 8 9]\n",
      "Broadcasted + 1 :  [ 1  2  3  4  5  6  7  8  9 10]\n"
     ]
    }
   ],
   "source": [
    "# Q2\n",
    "# a\n",
    "arr = np.arange(10)\n",
    "print(\"original array  : \", arr)\n",
    "arr2 = arr + 1\n",
    "print(\"Broadcasted + 1 : \",arr2)"
   ]
  },
  {
   "cell_type": "code",
   "execution_count": 10,
   "id": "b5ac07e0",
   "metadata": {},
   "outputs": [],
   "source": [
    "# b 10x10 matrix\n",
    "column_vector = arr2.reshape(10,1) \n",
    "arr3 = column_vector + arr2 "
   ]
  },
  {
   "cell_type": "code",
   "execution_count": 11,
   "id": "9fa71fb3",
   "metadata": {},
   "outputs": [
    {
     "data": {
      "text/plain": [
       "array([[ 2,  3,  4,  5,  6,  7,  8,  9, 10, 11],\n",
       "       [ 3,  4,  5,  6,  7,  8,  9, 10, 11, 12],\n",
       "       [ 4,  5,  6,  7,  8,  9, 10, 11, 12, 13],\n",
       "       [ 5,  6,  7,  8,  9, 10, 11, 12, 13, 14],\n",
       "       [ 6,  7,  8,  9, 10, 11, 12, 13, 14, 15],\n",
       "       [ 7,  8,  9, 10, 11, 12, 13, 14, 15, 16],\n",
       "       [ 8,  9, 10, 11, 12, 13, 14, 15, 16, 17],\n",
       "       [ 9, 10, 11, 12, 13, 14, 15, 16, 17, 18],\n",
       "       [10, 11, 12, 13, 14, 15, 16, 17, 18, 19],\n",
       "       [11, 12, 13, 14, 15, 16, 17, 18, 19, 20]])"
      ]
     },
     "execution_count": 11,
     "metadata": {},
     "output_type": "execute_result"
    }
   ],
   "source": [
    "arr3"
   ]
  },
  {
   "cell_type": "code",
   "execution_count": 12,
   "id": "ee70c4f6",
   "metadata": {},
   "outputs": [
    {
     "name": "stdout",
     "output_type": "stream",
     "text": [
      "[[ 2.65202497  1.40714091  1.36608524  0.66969558  1.02521638]\n",
      " [ 0.56202323  2.78621702  0.98413724  1.99061328  2.55545189]\n",
      " [ 0.59942522 11.21015721  0.74266047  2.32023609  0.73211036]\n",
      " [ 0.40306796  0.2931885   0.28282751  0.64051768  0.80796989]\n",
      " [ 3.69248771  0.5467176   1.74660913  1.69416513  1.1822435 ]\n",
      " [ 0.7931814   0.75547024  2.22920774  0.25893812  0.61310351]\n",
      " [ 6.85722504  0.99848455  1.14830806  5.10765721  0.60846904]\n",
      " [ 0.77105101  0.54922079  0.22601355  0.61330683  0.45086524]\n",
      " [ 0.3006723   0.16869663  2.36934725  0.59364363  0.3178019 ]\n",
      " [ 0.75060758  0.11440153  0.94528617  0.23127758  1.36263496]\n",
      " [ 0.27878232  0.56075955  0.61084635  0.70181141  0.35889   ]\n",
      " [ 2.95997129  0.4515714   0.87669302  0.19285331  1.33386988]\n",
      " [ 1.14590219  0.89659494  4.51647448  0.34540509  1.04018266]\n",
      " [ 3.91257246  0.5146645   0.48812029  1.42193145  2.25343875]\n",
      " [ 0.34084966  0.22777301  1.56746808  1.01646868  5.12407837]\n",
      " [ 0.82084889  2.00409165  0.63440507  0.4481808   2.50926724]\n",
      " [ 0.59693268  0.34626293  0.43596487  2.88623134  2.70647046]\n",
      " [ 2.56987872  1.46928769  0.56490901  0.17020246  0.66249791]\n",
      " [ 0.73698797  1.48012781  1.18831434  1.46199489  1.66270724]\n",
      " [ 5.4641063   1.27018359  3.64487133  0.8671602   0.26962569]\n",
      " [ 0.48060198  4.00165018  0.20346998  0.98814727  1.10035605]\n",
      " [ 1.98281448  0.60906612  0.43763465  0.89181274  1.49697269]\n",
      " [ 0.72787983  0.3615206   0.52321222  0.43368975  0.788284  ]\n",
      " [ 0.47123277  1.56423789  0.78302956  1.36805487  1.34155717]\n",
      " [ 1.00926273  1.29939892  1.16665351  1.28815418  2.55595849]\n",
      " [ 0.70504102  1.31857838  1.06685877  1.64841002  0.66665361]\n",
      " [ 0.35380677  0.29913911  3.22272207  1.39634417  1.46137192]\n",
      " [ 1.5407836   0.29750911  0.72604021  2.18313461  0.47554565]\n",
      " [ 0.97562121  2.37931653  0.43408878  1.57813024  1.53025897]\n",
      " [ 0.45328163  2.75886096  0.86001764  2.46211826  0.54798037]\n",
      " [ 0.21865778  1.43941796  1.67338525  0.91806579  2.02782273]\n",
      " [ 0.43408353  2.04133899  1.25312244  0.50281527  3.06278371]\n",
      " [ 2.36898275  2.67859389  0.29867822  0.31650833  0.70136089]\n",
      " [ 0.20628548  0.09417     8.20409936  0.42180749  0.37168996]\n",
      " [ 2.78761764  1.46604598  2.1369979   1.26105382  0.49542106]\n",
      " [ 0.72107277  3.22385777  0.79621998  0.40456848  9.33297969]\n",
      " [ 1.44207522  1.5091176   2.2924429   0.93170656  0.04883743]\n",
      " [ 0.75726438  2.40926222  4.9120455   1.41634745  0.57669666]\n",
      " [ 0.77257555  3.30797522  1.09724444  0.99154287  0.22702872]\n",
      " [ 1.04878414  2.33627692  0.9804602   0.17870958  0.1922611 ]\n",
      " [ 0.80443069  2.9063042   2.00039212  1.26858685  0.8862361 ]\n",
      " [ 0.97417976  0.32401278  1.59412063  0.55426233  0.46959944]\n",
      " [ 0.53332587  0.17578659  1.65413322  0.50499618  0.98776585]\n",
      " [ 0.22763077  3.09585559  0.83729624  0.50103369  0.32264964]\n",
      " [ 0.52951888  0.34155881  1.65528356  4.43920305 10.22562573]\n",
      " [ 1.14996982  0.65044698  2.81477943  2.01555463  0.21412827]\n",
      " [ 0.42138102  0.32805182  3.15892726  2.66977596  1.72912564]\n",
      " [ 4.93393651  1.15471895  1.59400919  2.84919721  0.40674748]\n",
      " [ 2.29992442  0.28648102  0.68216921  3.14141015  0.50220198]\n",
      " [ 0.51265908  1.35843732  0.44820013  1.09378458  1.50887364]]\n"
     ]
    }
   ],
   "source": [
    "# c\n",
    "\n",
    "import numpy.random as npr\n",
    "data = np.exp(npr.randn ( 50 , 5 ) )\n",
    "print(data)"
   ]
  },
  {
   "cell_type": "code",
   "execution_count": 13,
   "id": "fd8980a0",
   "metadata": {},
   "outputs": [
    {
     "name": "stdout",
     "output_type": "stream",
     "text": [
      "[1.43956289 1.72096288 1.42310345 1.05448455 1.93599536]\n",
      "[1.36106562 1.48136001 1.52152568 1.28502434 1.47663339]\n"
     ]
    }
   ],
   "source": [
    "std = np.std(data,axis=0)# for each column that means we have to compute between rows\n",
    "mean = np.mean(data,axis=0)\n",
    "print(std)\n",
    "print(mean)"
   ]
  },
  {
   "cell_type": "code",
   "execution_count": 14,
   "id": "68f22687",
   "metadata": {},
   "outputs": [
    {
     "name": "stdout",
     "output_type": "stream",
     "text": [
      "[[ 8.96771766e-01 -4.31264970e-02 -1.09226377e-01 -5.83535117e-01\n",
      "  -2.33170501e-01]\n",
      " [-5.55059035e-01  7.58213343e-01 -3.77617266e-01  6.69131608e-01\n",
      "   5.57242295e-01]\n",
      " [-5.29077544e-01  5.65311276e+00 -5.47300485e-01  9.81723014e-01\n",
      "  -3.84568602e-01]\n",
      " [-6.65478159e-01 -6.90410890e-01 -8.70420323e-01 -6.11205415e-01\n",
      "  -3.45384866e-01]\n",
      " [ 1.61953473e+00 -5.43092722e-01  1.58163805e-01  3.88000747e-01\n",
      "  -1.52061259e-01]\n",
      " [-3.94483786e-01 -4.21792813e-01  4.97280830e-01 -9.73068999e-01\n",
      "  -4.46039228e-01]\n",
      " [ 3.81793631e+00 -2.80584471e-01 -2.62256135e-01  3.62511985e+00\n",
      "  -4.48433071e-01]\n",
      " [-4.09856777e-01 -5.41638193e-01 -9.10342905e-01 -6.37010292e-01\n",
      "  -5.29840188e-01]\n",
      " [-7.36607846e-01 -7.62749386e-01  5.95755403e-01 -6.55657513e-01\n",
      "  -5.98571417e-01]\n",
      " [-4.24057916e-01 -7.94298645e-01 -4.04917511e-01 -9.99300336e-01\n",
      "  -5.88836255e-02]\n",
      " [-7.51813837e-01 -5.34933361e-01 -6.39924894e-01 -5.53078694e-01\n",
      "  -5.77348174e-01]\n",
      " [ 1.11068831e+00 -5.98379325e-01 -4.53117200e-01 -1.03573925e+00\n",
      "  -7.37416576e-02]\n",
      " [-1.49464419e-01 -3.39789472e-01  2.10451939e+00 -8.91069725e-01\n",
      "  -2.25439968e-01]\n",
      " [ 1.77241777e+00 -5.61717819e-01 -7.26163217e-01  1.29833205e-01\n",
      "   4.01243396e-01]\n",
      " [-7.08698429e-01 -7.28421871e-01  3.22832476e-02 -2.54679562e-01\n",
      "   1.88401535e+00]\n",
      " [-3.75264417e-01  3.03743706e-01 -6.23370426e-01 -7.93604366e-01\n",
      "   5.33386530e-01]\n",
      " [-5.30809001e-01 -6.59570928e-01 -7.62812293e-01  1.51847365e+00\n",
      "   6.35247939e-01]\n",
      " [ 8.39708434e-01 -7.01486044e-03 -6.72204587e-01 -1.05721975e+00\n",
      "  -4.20525530e-01]\n",
      " [-4.33518855e-01 -7.15995695e-04 -2.34144138e-01  1.67826593e-01\n",
      "   9.61127564e-02]\n",
      " [ 2.85019898e+00 -1.22708294e-01  1.49205291e+00 -3.96273370e-01\n",
      "  -6.23455885e-01]\n",
      " [-6.11618738e-01  1.46446516e+00 -9.26184030e-01 -2.81537626e-01\n",
      "  -1.94358597e-01]\n",
      " [ 4.31901142e-01 -5.06863864e-01 -7.61638957e-01 -3.72894609e-01\n",
      "   1.05058614e-02]\n",
      " [-4.39845871e-01 -6.50705153e-01 -7.01504484e-01 -8.07346671e-01\n",
      "  -3.55553221e-01]\n",
      " [-6.18127113e-01  4.81578570e-02 -5.18933541e-01  7.87403942e-02\n",
      "  -6.97709403e-02]\n",
      " [-2.44381745e-01 -1.05732141e-01 -2.49364984e-01  2.96811875e-03\n",
      "   5.57503970e-01]\n",
      " [-4.55710969e-01 -9.45875332e-02 -3.19489710e-01  3.44609772e-01\n",
      "  -4.18378989e-01]\n",
      " [-6.99697703e-01 -6.86953168e-01  1.19541302e+00  1.05568004e-01\n",
      "  -7.88301036e-03]\n",
      " [ 1.24842049e-01 -6.87900309e-01 -5.58979364e-01  8.51705484e-01\n",
      "  -5.17092015e-01]\n",
      " [-2.67751006e-01  5.21775649e-01 -7.64130598e-01  2.77961303e-01\n",
      "   2.76992309e-02]\n",
      " [-6.30596968e-01  7.42317553e-01 -4.64834820e-01  1.11627422e+00\n",
      "  -4.79677298e-01]\n",
      " [-7.93579670e-01 -2.43712701e-02  1.06710146e-01 -3.47998037e-01\n",
      "   2.84705920e-01]\n",
      " [-6.43933027e-01  3.25387022e-01 -1.88604161e-01 -7.41792830e-01\n",
      "   8.19294483e-01]\n",
      " [ 7.00154987e-01  6.95676764e-01 -8.59282190e-01 -9.18473404e-01\n",
      "  -4.00451633e-01]\n",
      " [-8.02174152e-01 -8.06054582e-01  4.69577505e+00 -8.18614982e-01\n",
      "  -5.70736612e-01]\n",
      " [ 9.90961934e-01 -8.89852338e-03  4.32485932e-01 -2.27319843e-02\n",
      "  -5.06825763e-01]\n",
      " [-4.44574427e-01  1.01251328e+00 -5.09664768e-01 -8.34963268e-01\n",
      "   4.05803984e+00]\n",
      " [ 5.62737498e-02  1.61291033e-02  5.41715522e-01 -3.35062079e-01\n",
      "  -7.37499681e-01]\n",
      " [-4.19433738e-01  5.39176195e-01  2.38248303e+00  1.24537729e-01\n",
      "  -4.64844465e-01]\n",
      " [-4.08797751e-01  1.06139141e+00 -2.98138014e-01 -2.78317473e-01\n",
      "  -6.45458505e-01]\n",
      " [-2.16927990e-01  4.96766618e-01 -3.80201084e-01 -1.04915218e+00\n",
      "  -6.63417026e-01]\n",
      " [-3.86669410e-01  8.27992403e-01  3.36494471e-01 -1.55881792e-02\n",
      "  -3.04958009e-01]\n",
      " [-2.68752313e-01 -6.72499824e-01  5.10117189e-02 -6.93004007e-01\n",
      "  -5.20163413e-01]\n",
      " [-5.74993808e-01 -7.58629624e-01  9.31819427e-02 -7.39724603e-01\n",
      "  -2.52514829e-01]\n",
      " [-7.87346532e-01  9.38135041e-01 -4.80800909e-01 -7.43482351e-01\n",
      "  -5.96067415e-01]\n",
      " [-5.77638357e-01 -6.62304348e-01  9.39902745e-02  2.99120430e+00\n",
      "   4.51911844e+00]\n",
      " [-1.46638819e-01 -4.82818685e-01  9.08755967e-01  6.92784251e-01\n",
      "  -6.52121976e-01]\n",
      " [-6.52756892e-01 -6.70152855e-01  1.15058507e+00  1.31320238e+00\n",
      "   1.30419864e-01]\n",
      " [ 2.48191373e+00 -1.89801340e-01  5.09334113e-02  1.48335304e+00\n",
      "  -5.52628345e-01]\n",
      " [ 6.52183245e-01 -6.94308405e-01 -5.89807061e-01  1.76046753e+00\n",
      "  -5.03323214e-01]\n",
      " [-5.89350106e-01 -7.14266928e-02 -7.54214702e-01 -1.81358522e-01\n",
      "   1.66530620e-02]]\n"
     ]
    }
   ],
   "source": [
    "normalized = (data-mean)/std\n",
    "print(normalized)"
   ]
  },
  {
   "cell_type": "code",
   "execution_count": 15,
   "id": "edef2411",
   "metadata": {},
   "outputs": [
    {
     "name": "stdout",
     "output_type": "stream",
     "text": [
      "Standard Deviation :  [1. 1. 1. 1. 1.]\n",
      "Mean               :  [ 1.42108547e-16  2.34257058e-16 -2.48689958e-16 -2.93653990e-16\n",
      "  1.25455202e-16]\n"
     ]
    }
   ],
   "source": [
    "std = np.std(normalized,axis=0)\n",
    "mean = np.mean(normalized,axis=0)\n",
    "print(\"Standard Deviation : \",std)\n",
    "print(\"Mean               : \",mean)\n",
    "# Mean 0, Std = 1"
   ]
  },
  {
   "cell_type": "code",
   "execution_count": 16,
   "id": "95281d55",
   "metadata": {},
   "outputs": [
    {
     "name": "stdout",
     "output_type": "stream",
     "text": [
      "1 1 1 1 1 1 1 1 1 1 1 1\n",
      "1 2 4 8 16 32 64 128 256 512 1024 2048\n",
      "1 3 9 27 81 243 729 2187 6561 19683 59049 177147\n",
      "1 4 16 64 256 1024 4096 16384 65536 262144 1048576 4194304\n",
      "1 5 25 125 625 3125 15625 78125 390625 1953125 9765625 48828125\n",
      "1 6 36 216 1296 7776 46656 279936 1679616 10077696 60466176 362797056\n",
      "1 7 49 343 2401 16807 117649 823543 5764801 40353607 282475249 1977326743\n",
      "1 8 64 512 4096 32768 262144 2097152 16777216 134217728 1073741824 0\n",
      "1 9 81 729 6561 59049 531441 4782969 43046721 387420489 -808182895 1316288537\n",
      "1 10 100 1000 10000 100000 1000000 10000000 100000000 1000000000 1410065408 1215752192\n",
      "1 11 121 1331 14641 161051 1771561 19487171 214358881 -1937019605 167620825 1843829075\n",
      "1 12 144 1728 20736 248832 2985984 35831808 429981696 864813056 1787822080 -20971520\n"
     ]
    }
   ],
   "source": [
    "# 3 Vandermonde matrix\n",
    "\n",
    "N = 12\n",
    "def vandermonde(N):\n",
    "    vec = np.arange (N) +1\n",
    "    vector = np.arange(N) + 1\n",
    "    v2 = np.arange(N)\n",
    "    output = vector.reshape(N,1)**v2\n",
    "    return output\n",
    "def printMat(Mat):\n",
    "    for row in Mat:\n",
    "        print(\" \".join(f\"{elem}\" for elem in row))\n",
    "\n",
    "Vector = vandermonde(N)\n",
    "printMat(Vector)"
   ]
  },
  {
   "cell_type": "code",
   "execution_count": 17,
   "id": "d74d3298",
   "metadata": {},
   "outputs": [
    {
     "name": "stdout",
     "output_type": "stream",
     "text": [
      "[1.20000000e+01 4.09500000e+03 2.65720000e+05 5.59240500e+06\n",
      " 6.10351560e+07 4.35356467e+08 2.30688120e+09 1.22713351e+09\n",
      " 9.43953692e+08 3.73692871e+09 3.10225064e+08 3.10073456e+09]\n"
     ]
    }
   ],
   "source": [
    "# b\n",
    "\n",
    "x = np.ones(12)\n",
    "\n",
    "b = np.dot(Vector,x)\n",
    "print(b)"
   ]
  },
  {
   "cell_type": "code",
   "execution_count": 18,
   "id": "d9913f2e",
   "metadata": {},
   "outputs": [
    {
     "name": "stdout",
     "output_type": "stream",
     "text": [
      "[1.00158882 0.99722672 1.00127029 0.99991608 1.00000095 0.99999905\n",
      " 1.00000018 0.99999999 1.         1.         1.         1.        ]\n"
     ]
    }
   ],
   "source": [
    "# c naive solution\n",
    "\n",
    "Vector_inv = np.linalg.inv(Vector)\n",
    "Sol = np.dot(Vector_inv,b)\n",
    "print(Sol)\n",
    "# The result is almost ones(12) with slight variation maybe due to floating points instability while inversing Vector"
   ]
  },
  {
   "cell_type": "code",
   "execution_count": 19,
   "id": "37dca5ce",
   "metadata": {},
   "outputs": [
    {
     "name": "stdout",
     "output_type": "stream",
     "text": [
      "[1.0000114  0.99997033 1.00002961 0.99998507 1.00000423 0.9999993\n",
      " 1.00000007 1.         1.         1.         1.         1.        ]\n"
     ]
    }
   ],
   "source": [
    "# d solve using numpy\n",
    "\n",
    "Sol_inbuilt = np.linalg.solve(Vector,b)\n",
    "\n",
    "print(Sol_inbuilt)"
   ]
  },
  {
   "cell_type": "code",
   "execution_count": 20,
   "id": "7aa54be5",
   "metadata": {},
   "outputs": [
    {
     "name": "stdout",
     "output_type": "stream",
     "text": [
      "0.0009931496457600455 1.3316958977450673e-05\n"
     ]
    }
   ],
   "source": [
    "# The solution using .solve() seems more accurate but let's verify that using some statistics \n",
    "\n",
    "Diff_solve = x - Sol\n",
    "Diff_solve_inbuilt = x - Sol_inbuilt\n",
    "print(np.std(Diff_solve) , np.std(Diff_solve_inbuilt) )\n",
    "# clearly the inbuilt function method's solution is more closer to ones(12)"
   ]
  },
  {
   "cell_type": "code",
   "execution_count": null,
   "id": "82c17ef8",
   "metadata": {},
   "outputs": [],
   "source": [
    "https://github.com/PARTH1D/Parth_24-27-29/blob/main/Assn2_Parth_Dethaliya_24-27-29.ipynb"
   ]
  }
 ],
 "metadata": {
  "kernelspec": {
   "display_name": "Python 3 (ipykernel)",
   "language": "python",
   "name": "python3"
  },
  "language_info": {
   "codemirror_mode": {
    "name": "ipython",
    "version": 3
   },
   "file_extension": ".py",
   "mimetype": "text/x-python",
   "name": "python",
   "nbconvert_exporter": "python",
   "pygments_lexer": "ipython3",
   "version": "3.11.9"
  }
 },
 "nbformat": 4,
 "nbformat_minor": 5
}
