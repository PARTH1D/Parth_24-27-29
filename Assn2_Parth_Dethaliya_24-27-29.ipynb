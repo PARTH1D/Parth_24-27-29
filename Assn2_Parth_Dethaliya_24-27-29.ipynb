{
 "cells": [
  {
   "cell_type": "code",
   "execution_count": 1,
   "id": "73133a9c",
   "metadata": {},
   "outputs": [],
   "source": [
    "# Name: Parth Jilubhai Dethaliya\n",
    "# Reg No: 24-27-29\n",
    "# Programme: M.Tech. Data Science\n",
    "# Assignment Number: 2"
   ]
  },
  {
   "cell_type": "code",
   "execution_count": 2,
   "id": "7d8be7eb",
   "metadata": {},
   "outputs": [],
   "source": [
    "import numpy as np\n",
    "def print_var_info(var):\n",
    "    print(f\"values    : \\n{var}\")\n",
    "    print(f\"Shape     : {var.shape}\")\n",
    "    print(f\"Dimension : {var.ndim}\")"
   ]
  },
  {
   "cell_type": "code",
   "execution_count": 3,
   "id": "57d4f223",
   "metadata": {},
   "outputs": [],
   "source": [
    "## Q1\n",
    "# a \n",
    "var1 = np.arange(31) # including 0 and 30 as well, total 31 values\n",
    "\n",
    "print_var_info(var1)"
   ]
  },
  {
   "cell_type": "code",
   "execution_count": 4,
   "id": "79e58fc9",
   "metadata": {},
   "outputs": [],
   "source": [
    "# b\n",
    "# Since 31 values are present in var1 (5,6) or (6,5) shapes may not work so,\n",
    "var2 = var1.reshape(31,1)\n",
    "\n",
    "print_var_info(var2)"
   ]
  },
  {
   "cell_type": "code",
   "execution_count": 5,
   "id": "f7bbb5a3",
   "metadata": {},
   "outputs": [],
   "source": [
    "# c\n",
    "# Similarly 3d shape\n",
    "var3 = var2.reshape(1,31,1) # or var1.reshape() both would result in same\n",
    "\n",
    "print_var_info(var3)"
   ]
  },
  {
   "cell_type": "code",
   "execution_count": 6,
   "id": "721c5d2c",
   "metadata": {},
   "outputs": [],
   "source": [
    "# d\n",
    "\n",
    "var2[1,0] = -1\n",
    "\n",
    "print(var1)\n",
    "print(var3)"
   ]
  },
  {
   "cell_type": "markdown",
   "id": "d479b582",
   "metadata": {},
   "source": [
    "The values in var1 as well as var3 changes because reshapes doesn't returns copy rather it returns view (in most of the cases)."
   ]
  },
  {
   "cell_type": "code",
   "execution_count": 7,
   "id": "a9d6b232",
   "metadata": {},
   "outputs": [],
   "source": [
    "# e i) Sum var3 over its second dimension\n",
    "print(f\"Shape     : {var3.shape}\")\n",
    "\n",
    "sum_var3_ax1 = np.sum(var3, axis=1)\n",
    "print(\"Sum over second dimension:\", sum_var3_ax1) # Second dimension contains all the 31 values so it sums over it\n",
    "\n",
    "# e ii) Sum var3 over its 3rd dimension\n",
    "\n",
    "sum_var3_ax2 = np.sum(var3, axis=2)\n",
    "print(\"Sum over second dimension:\", sum_var3_ax2) # it will sum between columns but since we only have 31 rows and \n",
    "# single column so it will be same thing but with dimension 2 (as it has reduced that 2nd axis by summin over it)\n",
    "\n",
    "# e iii) Sum var3 over its 1st & 3rd dimension\n",
    "\n",
    "\n",
    "sum_var3_ax1_3 = np.sum(var3, axis=(0,2))\n",
    "print(\"Sum over second dimension:\", sum_var3_ax1_3) # it willfirst sum over axis 0 which is between the depth, but since \n",
    "# there exists only one depth so the output information may not change, only axis 0 will be reduces\n",
    "# then it sums over axis 2, again same thing will happen as mention in \"e (ii)\" and the dimension will be 1 now"
   ]
  },
  {
   "cell_type": "markdown",
   "id": "0a58ad49",
   "metadata": {},
   "source": [
    "Conclusion regarding output shape:\n",
    "if an array is of shape (a,b,c),\n",
    "any_operation(axis=0) returns (b,c) (eliminates the given axis)\n",
    "example: i) any_operation(axis=1) returns (a,c)\n",
    "         ii) any_operation(axis=(0,1) returns (b) likewise..."
   ]
  },
  {
   "cell_type": "code",
   "execution_count": 8,
   "id": "e2c66419",
   "metadata": {},
   "outputs": [],
   "source": [
    "# f i)\n",
    "print(\"Second row\")\n",
    "print(var2[1,:])\n",
    "\n",
    "# f ii)\n",
    "print(\"\\nLast column\")\n",
    "print(var2[:,-1]) # Only 1 column exists so the output will with full data but 1d\n",
    "\n",
    "# f iii) Top right 2x2\n",
    "# Since it's not possible with shape (31,1) so creating new variable with (5,6) shape to do this\n",
    "var4 = np.arange(30).reshape(5,6)\n",
    "print(\"\\nvar4: \")\n",
    "print_var_info(var4)\n",
    "\n",
    "print(\"\\n\")\n",
    "print(\"Top right 2x2: \\n\")\n",
    "\n",
    "print(var4[:2,-2:])\n"
   ]
  },
  {
   "cell_type": "code",
   "execution_count": 9,
   "id": "533c37d5",
   "metadata": {},
   "outputs": [],
   "source": [
    "# Q2\n",
    "# a\n",
    "arr = np.arange(10)\n",
    "print(\"original array  : \", arr)\n",
    "arr2 = arr + 1\n",
    "print(\"Broadcasted + 1 : \",arr2)"
   ]
  },
  {
   "cell_type": "code",
   "execution_count": 10,
   "id": "b5ac07e0",
   "metadata": {},
   "outputs": [],
   "source": [
    "# b 10x10 matrix\n",
    "column_vector = arr2.reshape(10,1) \n",
    "arr3 = column_vector + arr2 "
   ]
  },
  {
   "cell_type": "code",
   "execution_count": 11,
   "id": "9fa71fb3",
   "metadata": {},
   "outputs": [],
   "source": [
    "arr3"
   ]
  },
  {
   "cell_type": "code",
   "execution_count": 12,
   "id": "ee70c4f6",
   "metadata": {},
   "outputs": [],
   "source": [
    "# c\n",
    "\n",
    "import numpy.random as npr\n",
    "data = np.exp(npr.randn ( 50 , 5 ) )\n",
    "print(data)"
   ]
  },
  {
   "cell_type": "code",
   "execution_count": 13,
   "id": "fd8980a0",
   "metadata": {},
   "outputs": [],
   "source": [
    "std = np.std(data,axis=0)# for each column that means we have to compute between rows\n",
    "mean = np.mean(data,axis=0)\n",
    "print(std)\n",
    "print(mean)"
   ]
  },
  {
   "cell_type": "code",
   "execution_count": 14,
   "id": "68f22687",
   "metadata": {},
   "outputs": [],
   "source": [
    "normalized = (data-mean)/std\n",
    "print(normalized)"
   ]
  },
  {
   "cell_type": "code",
   "execution_count": 15,
   "id": "edef2411",
   "metadata": {},
   "outputs": [],
   "source": [
    "std = np.std(normalized,axis=0)\n",
    "mean = np.mean(normalized,axis=0)\n",
    "print(\"Standard Deviation : \",std)\n",
    "print(\"Mean               : \",mean)\n",
    "# Mean 0, Std = 1"
   ]
  },
  {
   "cell_type": "code",
   "execution_count": 16,
   "id": "95281d55",
   "metadata": {},
   "outputs": [],
   "source": [
    "# 3 Vandermonde matrix\n",
    "\n",
    "N = 12\n",
    "def vandermonde(N):\n",
    "    vec = np.arange (N) +1\n",
    "    vector = np.arange(N) + 1\n",
    "    v2 = np.arange(N)  # Power Vector \n",
    "    output = vector.reshape(N,1)**v2\n",
    "    return output\n",
    "def printMat(Mat):\n",
    "    for row in Mat:\n",
    "        print(\" \".join(f\"{elem}\" for elem in row))\n",
    "\n",
    "Vector = vandermonde(N)\n",
    "printMat(Vector)"
   ]
  },
  {
   "cell_type": "code",
   "execution_count": 17,
   "id": "d74d3298",
   "metadata": {},
   "outputs": [],
   "source": [
    "# b\n",
    "\n",
    "x = np.ones(12)\n",
    "\n",
    "b = np.dot(Vector,x)\n",
    "print(b)"
   ]
  },
  {
   "cell_type": "code",
   "execution_count": 18,
   "id": "d9913f2e",
   "metadata": {},
   "outputs": [],
   "source": [
    "# c naive solution\n",
    "\n",
    "Vector_inv = np.linalg.inv(Vector)\n",
    "Sol = np.dot(Vector_inv,b)\n",
    "print(Sol)\n",
    "# The result is almost ones(12) with slight variation maybe due to floating points instability while inversing Vector"
   ]
  },
  {
   "cell_type": "code",
   "execution_count": 19,
   "id": "37dca5ce",
   "metadata": {},
   "outputs": [],
   "source": [
    "# d solve using numpy\n",
    "\n",
    "Sol_inbuilt = np.linalg.solve(Vector,b)\n",
    "\n",
    "print(Sol_inbuilt)"
   ]
  },
  {
   "cell_type": "code",
   "execution_count": 20,
   "id": "7aa54be5",
   "metadata": {},
   "outputs": [],
   "source": [
    "# The solution using .solve() seems more accurate but let's verify that using some statistics \n",
    "\n",
    "Diff_solve = x - Sol\n",
    "Diff_solve_inbuilt = x - Sol_inbuilt\n",
    "print(np.std(Diff_solve) , np.std(Diff_solve_inbuilt) )\n",
    "# clearly the inbuilt function method's solution is more closer to ones(12)"
   ]
  },
  {
   "cell_type": "code",
   "execution_count": 21,
   "id": "82c17ef8",
   "metadata": {},
   "outputs": [],
   "source": [
    "#https://github.com/PARTH1D/Parth_24-27-29/blob/main/Assn2_Parth_Dethaliya_24-27-29.ipynb"
   ]
  },
  {
   "cell_type": "code",
   "execution_count": null,
   "id": "dfbac695",
   "metadata": {},
   "outputs": [],
   "source": []
  }
 ],
 "metadata": {
  "kernelspec": {
   "display_name": "Python 3 (ipykernel)",
   "language": "python",
   "name": "python3"
  },
  "language_info": {
   "codemirror_mode": {
    "name": "ipython",
    "version": 3
   },
   "file_extension": ".py",
   "mimetype": "text/x-python",
   "name": "python",
   "nbconvert_exporter": "python",
   "pygments_lexer": "ipython3",
   "version": "3.11.9"
  }
 },
 "nbformat": 4,
 "nbformat_minor": 5
}
