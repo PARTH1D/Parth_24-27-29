{
 "cells": [
  {
   "cell_type": "code",
   "execution_count": 1,
   "id": "73133a9c",
   "metadata": {},
   "outputs": [],
   "source": [
    "# Name: Parth Jilubhai Dethaliya\n",
    "# Reg No: 24-27-29\n",
    "# Programme: M.Tech. Data Science\n",
    "# Assignment Number: 2"
   ]
  },
  {
   "cell_type": "code",
   "execution_count": null,
   "id": "57d4f223",
   "metadata": {},
   "outputs": [],
   "source": []
  }
 ],
 "metadata": {
  "kernelspec": {
   "display_name": "Python 3 (ipykernel)",
   "language": "python",
   "name": "python3"
  },
  "language_info": {
   "codemirror_mode": {
    "name": "ipython",
    "version": 3
   },
   "file_extension": ".py",
   "mimetype": "text/x-python",
   "name": "python",
   "nbconvert_exporter": "python",
   "pygments_lexer": "ipython3",
   "version": "3.11.9"
  }
 },
 "nbformat": 4,
 "nbformat_minor": 5
}
